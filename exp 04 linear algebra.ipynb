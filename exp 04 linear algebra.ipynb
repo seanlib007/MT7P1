{
 "cells": [
  {
   "cell_type": "code",
   "execution_count": 1,
   "id": "inside-equation",
   "metadata": {},
   "outputs": [
    {
     "data": {
      "text/html": [
       "<html><script type=\"math/tex; mode=display\">\\newcommand{\\Bold}[1]{\\mathbf{#1}}\\left(\\begin{array}{rrrr}\n",
       "-3 & -8 & -7 & 1 \\\\\n",
       "-7 & 7 & -6 & -9 \\\\\n",
       "-8 & -5 & -5 & -9\n",
       "\\end{array}\\right)</script></html>"
      ],
      "text/latex": [
       "\\begin{math}\n",
       "\\newcommand{\\Bold}[1]{\\mathbf{#1}}\\left(\\begin{array}{rrrr}\n",
       "-3 & -8 & -7 & 1 \\\\\n",
       "-7 & 7 & -6 & -9 \\\\\n",
       "-8 & -5 & -5 & -9\n",
       "\\end{array}\\right)\n",
       "\\end{math}"
      ],
      "text/plain": [
       "[-3 -8 -7  1]\n",
       "[-7  7 -6 -9]\n",
       "[-8 -5 -5 -9]"
      ]
     },
     "metadata": {},
     "output_type": "display_data"
    },
    {
     "data": {
      "text/html": [
       "<html><script type=\"math/tex; mode=display\">\\newcommand{\\Bold}[1]{\\mathbf{#1}}\\left(\\begin{array}{r}\n",
       "-3\n",
       "\\end{array}\\right)</script></html>"
      ],
      "text/latex": [
       "\\begin{math}\n",
       "\\newcommand{\\Bold}[1]{\\mathbf{#1}}\\left(\\begin{array}{r}\n",
       "-3\n",
       "\\end{array}\\right)\n",
       "\\end{math}"
      ],
      "text/plain": [
       "[-3]"
      ]
     },
     "metadata": {},
     "output_type": "display_data"
    },
    {
     "data": {
      "text/html": [
       "<html><script type=\"math/tex; mode=display\">\\newcommand{\\Bold}[1]{\\mathbf{#1}}\\left(\\begin{array}{rr}\n",
       "-3 & -8 \\\\\n",
       "-7 & 7\n",
       "\\end{array}\\right)</script></html>"
      ],
      "text/latex": [
       "\\begin{math}\n",
       "\\newcommand{\\Bold}[1]{\\mathbf{#1}}\\left(\\begin{array}{rr}\n",
       "-3 & -8 \\\\\n",
       "-7 & 7\n",
       "\\end{array}\\right)\n",
       "\\end{math}"
      ],
      "text/plain": [
       "[-3 -8]\n",
       "[-7  7]"
      ]
     },
     "metadata": {},
     "output_type": "display_data"
    },
    {
     "data": {
      "text/html": [
       "<html><script type=\"math/tex; mode=display\">\\newcommand{\\Bold}[1]{\\mathbf{#1}}\\left(\\begin{array}{rrr}\n",
       "-3 & -8 & -7 \\\\\n",
       "-7 & 7 & -6 \\\\\n",
       "-8 & -5 & -5\n",
       "\\end{array}\\right)</script></html>"
      ],
      "text/latex": [
       "\\begin{math}\n",
       "\\newcommand{\\Bold}[1]{\\mathbf{#1}}\\left(\\begin{array}{rrr}\n",
       "-3 & -8 & -7 \\\\\n",
       "-7 & 7 & -6 \\\\\n",
       "-8 & -5 & -5\n",
       "\\end{array}\\right)\n",
       "\\end{math}"
      ],
      "text/plain": [
       "[-3 -8 -7]\n",
       "[-7  7 -6]\n",
       "[-8 -5 -5]"
      ]
     },
     "metadata": {},
     "output_type": "display_data"
    }
   ],
   "source": [
    "a=random_matrix(ZZ,3,4,x=-9,y=9)\n",
    "r=a.dimensions()[0]\n",
    "c=a.dimensions()[1]\n",
    "show(a)\n",
    "for i in range(c):\n",
    "    for j in range(r):\n",
    "        if i==j:\n",
    "            A=a.submatrix().matrix_from_rows_and_columns([0..i],[0..j])\n",
    "            show(A)\n",
    "        "
   ]
  },
  {
   "cell_type": "code",
   "execution_count": 2,
   "id": "virtual-motor",
   "metadata": {},
   "outputs": [
    {
     "data": {
      "text/html": [
       "<html><script type=\"math/tex; mode=display\">\\newcommand{\\Bold}[1]{\\mathbf{#1}}\\left(\\begin{array}{rrr}\n",
       "25 & 15 & -5 \\\\\n",
       "15 & 18 & 0 \\\\\n",
       "-5 & 0 & 11\n",
       "\\end{array}\\right)</script></html>"
      ],
      "text/latex": [
       "\\begin{math}\n",
       "\\newcommand{\\Bold}[1]{\\mathbf{#1}}\\left(\\begin{array}{rrr}\n",
       "25 & 15 & -5 \\\\\n",
       "15 & 18 & 0 \\\\\n",
       "-5 & 0 & 11\n",
       "\\end{array}\\right)\n",
       "\\end{math}"
      ],
      "text/plain": [
       "[25 15 -5]\n",
       "[15 18  0]\n",
       "[-5  0 11]"
      ]
     },
     "metadata": {},
     "output_type": "display_data"
    },
    {
     "name": "stdout",
     "output_type": "stream",
     "text": [
      "The given matrix is a positive definite matrix\n"
     ]
    },
    {
     "data": {
      "text/html": [
       "<html><script type=\"math/tex; mode=display\">\\newcommand{\\Bold}[1]{\\mathbf{#1}}\\left(\\begin{array}{rrrr}\n",
       "2 & -1 & 0 & 3 \\\\\n",
       "-1 & 2 & 1 & 4 \\\\\n",
       "0 & 1 & -2 & 7 \\\\\n",
       "3 & 4 & 7 & 0\n",
       "\\end{array}\\right)</script></html>"
      ],
      "text/latex": [
       "\\begin{math}\n",
       "\\newcommand{\\Bold}[1]{\\mathbf{#1}}\\left(\\begin{array}{rrrr}\n",
       "2 & -1 & 0 & 3 \\\\\n",
       "-1 & 2 & 1 & 4 \\\\\n",
       "0 & 1 & -2 & 7 \\\\\n",
       "3 & 4 & 7 & 0\n",
       "\\end{array}\\right)\n",
       "\\end{math}"
      ],
      "text/plain": [
       "[ 2 -1  0  3]\n",
       "[-1  2  1  4]\n",
       "[ 0  1 -2  7]\n",
       "[ 3  4  7  0]"
      ]
     },
     "metadata": {},
     "output_type": "display_data"
    },
    {
     "name": "stdout",
     "output_type": "stream",
     "text": [
      "The given matrix is not a positive definite matrix\n"
     ]
    }
   ],
   "source": [
    "def st3(a):\n",
    "    n=a.dimensions()[0]\n",
    "    show(a)\n",
    "    for i in range(n):\n",
    "        for j in range(n):\n",
    "            if i==j:\n",
    "                A=a.submatrix().matrix_from_rows_and_columns([0..i],[0..j])\n",
    "                deta=A.det()\n",
    "                if deta<=0:\n",
    "                    print(\"The given matrix is not a positive definite matrix\")\n",
    "                    return\n",
    "    print(\"The given matrix is a positive definite matrix\")\n",
    "a=matrix([[25,15,-5],[15,18,0],[-5,0,11]])\n",
    "st3(a)\n",
    "b=matrix([[2,-1,0,3],[-1,2,1,4],[0,1,-2,7],[3,4,7,0]])\n",
    "st3(b)"
   ]
  },
  {
   "cell_type": "code",
   "execution_count": 83,
   "id": "conceptual-willow",
   "metadata": {},
   "outputs": [
    {
     "name": "stdout",
     "output_type": "stream",
     "text": [
      "The given matrix is a positive definite matrix\n",
      "The given matrix is not a positive definite matrix\n"
     ]
    }
   ],
   "source": [
    "def st2(a):\n",
    "    e=a.eigenvalues()\n",
    "    for i in e:\n",
    "        if i<=0:\n",
    "            print(\"The given matrix is not a positive definite matrix\")\n",
    "            return\n",
    "    print(\"The given matrix is a positive definite matrix\")\n",
    "a=matrix([[25,15,-5],[15,18,0],[-5,0,11]])\n",
    "st2(a)\n",
    "b=matrix([[2,-1,0,3],[-1,2,1,4],[0,1,-2,7],[3,4,7,0]])\n",
    "st2(b)"
   ]
  },
  {
   "cell_type": "code",
   "execution_count": null,
   "id": "strange-admission",
   "metadata": {},
   "outputs": [],
   "source": []
  }
 ],
 "metadata": {
  "kernelspec": {
   "display_name": "SageMath 9.2",
   "language": "sage",
   "name": "sagemath"
  },
  "language_info": {
   "codemirror_mode": {
    "name": "ipython",
    "version": 3
   },
   "file_extension": ".py",
   "mimetype": "text/x-python",
   "name": "python",
   "nbconvert_exporter": "python",
   "pygments_lexer": "ipython3",
   "version": "3.9.2"
  }
 },
 "nbformat": 4,
 "nbformat_minor": 5
}
