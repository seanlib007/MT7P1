{
 "cells": [
  {
   "cell_type": "code",
   "execution_count": 1,
   "id": "coastal-layout",
   "metadata": {},
   "outputs": [
    {
     "name": "stdout",
     "output_type": "stream",
     "text": [
      "toeplitz matrix\n"
     ]
    },
    {
     "data": {
      "text/html": [
       "<html><script type=\"math/tex; mode=display\">\\newcommand{\\Bold}[1]{\\mathbf{#1}}\\left(\\begin{array}{rrrrrrr}\n",
       "1 & 4 & 5 & 6 & 7 & 8 & 9 \\\\\n",
       "2 & 1 & 4 & 5 & 6 & 7 & 8 \\\\\n",
       "3 & 2 & 1 & 4 & 5 & 6 & 7 \\\\\n",
       "4 & 3 & 2 & 1 & 4 & 5 & 6\n",
       "\\end{array}\\right)</script></html>"
      ],
      "text/latex": [
       "\\begin{math}\n",
       "\\newcommand{\\Bold}[1]{\\mathbf{#1}}\\left(\\begin{array}{rrrrrrr}\n",
       "1 & 4 & 5 & 6 & 7 & 8 & 9 \\\\\n",
       "2 & 1 & 4 & 5 & 6 & 7 & 8 \\\\\n",
       "3 & 2 & 1 & 4 & 5 & 6 & 7 \\\\\n",
       "4 & 3 & 2 & 1 & 4 & 5 & 6\n",
       "\\end{array}\\right)\n",
       "\\end{math}"
      ],
      "text/plain": [
       "[1 4 5 6 7 8 9]\n",
       "[2 1 4 5 6 7 8]\n",
       "[3 2 1 4 5 6 7]\n",
       "[4 3 2 1 4 5 6]"
      ]
     },
     "metadata": {},
     "output_type": "display_data"
    },
    {
     "name": "stdout",
     "output_type": "stream",
     "text": [
      "toeplitz matrix\n"
     ]
    },
    {
     "data": {
      "text/html": [
       "<html><script type=\"math/tex; mode=display\">\\newcommand{\\Bold}[1]{\\mathbf{#1}}\\left(\\begin{array}{rrrr}\n",
       "1 & 1 & 2 & 3 \\\\\n",
       "2 & 1 & 1 & 2 \\\\\n",
       "3 & 2 & 1 & 1 \\\\\n",
       "4 & 3 & 2 & 1 \\\\\n",
       "5 & 4 & 3 & 2 \\\\\n",
       "6 & 5 & 4 & 3\n",
       "\\end{array}\\right)</script></html>"
      ],
      "text/latex": [
       "\\begin{math}\n",
       "\\newcommand{\\Bold}[1]{\\mathbf{#1}}\\left(\\begin{array}{rrrr}\n",
       "1 & 1 & 2 & 3 \\\\\n",
       "2 & 1 & 1 & 2 \\\\\n",
       "3 & 2 & 1 & 1 \\\\\n",
       "4 & 3 & 2 & 1 \\\\\n",
       "5 & 4 & 3 & 2 \\\\\n",
       "6 & 5 & 4 & 3\n",
       "\\end{array}\\right)\n",
       "\\end{math}"
      ],
      "text/plain": [
       "[1 1 2 3]\n",
       "[2 1 1 2]\n",
       "[3 2 1 1]\n",
       "[4 3 2 1]\n",
       "[5 4 3 2]\n",
       "[6 5 4 3]"
      ]
     },
     "metadata": {},
     "output_type": "display_data"
    }
   ],
   "source": [
    "def toe(u,v):\n",
    "    m=len(u)\n",
    "    n=len(v)\n",
    "    T=matrix(m,n+1,lambda i,j:u[i-j] if i>=j else v[j-i-1])\n",
    "    print(\"toeplitz matrix\")\n",
    "    show(T)\n",
    "    return\n",
    "toe([1,2,3,4],[4,5,6,7,8,9])\n",
    "toe([1,2,3,4,5,6],[1,2,3])"
   ]
  },
  {
   "cell_type": "code",
   "execution_count": 53,
   "id": "economic-snake",
   "metadata": {},
   "outputs": [],
   "source": [
    "def c(n):\n",
    "    dete=1\n",
    "    for i in range(1,n):\n",
    "        dete=dete*factorial(i)\n",
    "    return dete\n",
    "def hil(n):\n",
    "    h=matrix.hilbert(n)\n",
    "    s=h.det()\n",
    "    m1=s\n",
    "    m2n=N(c(n)^4/c(2*n))\n",
    "    print(\"the inbuilt determinant\",m1)\n",
    "    print(\"the user defined determinant\",m2n)\n",
    "    if m1==m2n:\n",
    "        print(\"verified\")\n",
    "    else:\n",
    "        print(\"not verified\")\n",
    "    "
   ]
  },
  {
   "cell_type": "code",
   "execution_count": 62,
   "id": "steady-ultimate",
   "metadata": {},
   "outputs": [
    {
     "name": "stdout",
     "output_type": "stream",
     "text": [
      "the inbuilt determinant 1/6048000\n",
      "the user defined determinant 1.65343915343915e-7\n",
      "verified\n",
      "the inbuilt determinant 1/266716800000\n",
      "the user defined determinant 3.74929513251509e-12\n",
      "verified\n"
     ]
    }
   ],
   "source": [
    "hil(4)\n",
    "hil(5)"
   ]
  },
  {
   "cell_type": "code",
   "execution_count": 63,
   "id": "informational-balloon",
   "metadata": {},
   "outputs": [],
   "source": [
    "def hil_det(n):\n",
    "    H=matrix.hilbert(n)\n",
    "    d1=H.det()\n",
    "    cn=prod([i^(n-i) for i in range(1,n)])\n",
    "    c2n=prod([i^(2*n-i) for i in range(1,2*n)])\n",
    "    d2=cn^4/c2n\n",
    "    if d1==d2:\n",
    "        print(\"true\")\n",
    "    else:\n",
    "        print(\"false\")"
   ]
  },
  {
   "cell_type": "code",
   "execution_count": 64,
   "id": "signed-classification",
   "metadata": {},
   "outputs": [
    {
     "name": "stdout",
     "output_type": "stream",
     "text": [
      "true\n"
     ]
    }
   ],
   "source": [
    "hil_det(4)"
   ]
  },
  {
   "cell_type": "code",
   "execution_count": 65,
   "id": "competitive-lebanon",
   "metadata": {},
   "outputs": [
    {
     "name": "stdout",
     "output_type": "stream",
     "text": [
      "true\n"
     ]
    }
   ],
   "source": [
    "n1=4\n",
    "hil_det(n1)"
   ]
  },
  {
   "cell_type": "code",
   "execution_count": 79,
   "id": "balanced-director",
   "metadata": {},
   "outputs": [],
   "source": [
    "def van_det(x):\n",
    "    H=matrix.vandermonde(x)\n",
    "    d1=H.det()\n",
    "    n=len(x)\n",
    "    d2=prod([x[j]-x[i] for j in range(n) for i in range(n) if i<j])\n",
    "    print(d1,d2)\n",
    "    if d1==d2:\n",
    "        print(\"true\")\n",
    "    else:\n",
    "        print(\"false\")"
   ]
  },
  {
   "cell_type": "code",
   "execution_count": 80,
   "id": "devoted-culture",
   "metadata": {},
   "outputs": [
    {
     "name": "stdout",
     "output_type": "stream",
     "text": [
      "12 12\n",
      "true\n"
     ]
    }
   ],
   "source": [
    "van_det([2,3,4,5])"
   ]
  },
  {
   "cell_type": "code",
   "execution_count": 81,
   "id": "wound-parameter",
   "metadata": {},
   "outputs": [
    {
     "name": "stdout",
     "output_type": "stream",
     "text": [
      "34560 34560\n",
      "true\n"
     ]
    }
   ],
   "source": [
    "van_det([4,5,6,7,8,9])"
   ]
  },
  {
   "cell_type": "code",
   "execution_count": null,
   "id": "positive-quarterly",
   "metadata": {},
   "outputs": [],
   "source": []
  }
 ],
 "metadata": {
  "kernelspec": {
   "display_name": "SageMath 9.2",
   "language": "sage",
   "name": "sagemath"
  },
  "language_info": {
   "codemirror_mode": {
    "name": "ipython",
    "version": 3
   },
   "file_extension": ".py",
   "mimetype": "text/x-python",
   "name": "python",
   "nbconvert_exporter": "python",
   "pygments_lexer": "ipython3",
   "version": "3.9.2"
  }
 },
 "nbformat": 4,
 "nbformat_minor": 5
}
