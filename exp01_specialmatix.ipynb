{
 "cells": [
  {
   "cell_type": "code",
   "execution_count": 40,
   "id": "induced-shirt",
   "metadata": {},
   "outputs": [
    {
     "name": "stdout",
     "output_type": "stream",
     "text": [
      "[1 2 3]\n",
      "[4 5 6]\n",
      "[7 8 9]\n"
     ]
    },
    {
     "data": {
      "text/html": [
       "<html><script type=\"math/tex; mode=display\">\\newcommand{\\Bold}[1]{\\mathbf{#1}}\\left(\\begin{array}{rrr}\n",
       "1 & 2 & 3 \\\\\n",
       "4 & 5 & 6 \\\\\n",
       "7 & 8 & 9\n",
       "\\end{array}\\right)</script></html>"
      ],
      "text/latex": [
       "\\begin{math}\n",
       "\\newcommand{\\Bold}[1]{\\mathbf{#1}}\\left(\\begin{array}{rrr}\n",
       "1 & 2 & 3 \\\\\n",
       "4 & 5 & 6 \\\\\n",
       "7 & 8 & 9\n",
       "\\end{array}\\right)\n",
       "\\end{math}"
      ],
      "text/plain": [
       "[1 2 3]\n",
       "[4 5 6]\n",
       "[7 8 9]"
      ]
     },
     "metadata": {},
     "output_type": "display_data"
    },
    {
     "data": {
      "text/plain": [
       "Integer Ring"
      ]
     },
     "execution_count": 40,
     "metadata": {},
     "output_type": "execute_result"
    }
   ],
   "source": [
    "a=matrix([[1,2,3],[4,5,6],[7,8,9]])\n",
    "print(a)\n",
    "show(a) \n",
    "a.base_ring()"
   ]
  },
  {
   "cell_type": "code",
   "execution_count": 39,
   "id": "architectural-living",
   "metadata": {},
   "outputs": [
    {
     "data": {
      "text/plain": [
       "Real Field with 53 bits of precision"
      ]
     },
     "execution_count": 39,
     "metadata": {},
     "output_type": "execute_result"
    }
   ],
   "source": [
    "a=matrix([[1.0,2,3],[4,5,6],[7,8,9]])\n",
    "a.base_ring()"
   ]
  },
  {
   "cell_type": "code",
   "execution_count": 25,
   "id": "fifty-adapter",
   "metadata": {},
   "outputs": [
    {
     "data": {
      "text/plain": [
       "[1 0 0]\n",
       "[0 1 0]\n",
       "[0 0 1]"
      ]
     },
     "execution_count": 25,
     "metadata": {},
     "output_type": "execute_result"
    }
   ],
   "source": [
    "matrix.identity(3)\n"
   ]
  },
  {
   "cell_type": "code",
   "execution_count": 26,
   "id": "adult-county",
   "metadata": {},
   "outputs": [
    {
     "data": {
      "text/plain": [
       "[0 0 0]\n",
       "[0 0 0]\n",
       "[0 0 0]"
      ]
     },
     "execution_count": 26,
     "metadata": {},
     "output_type": "execute_result"
    }
   ],
   "source": [
    "matrix.zero(3)"
   ]
  },
  {
   "cell_type": "code",
   "execution_count": 30,
   "id": "transparent-spirituality",
   "metadata": {},
   "outputs": [
    {
     "data": {
      "text/plain": [
       "[  1 1/2 1/3]\n",
       "[1/2 1/3 1/4]\n",
       "[1/3 1/4 1/5]"
      ]
     },
     "execution_count": 30,
     "metadata": {},
     "output_type": "execute_result"
    }
   ],
   "source": [
    "matrix.hilbert(3)"
   ]
  },
  {
   "cell_type": "code",
   "execution_count": 43,
   "id": "hourly-percentage",
   "metadata": {},
   "outputs": [
    {
     "data": {
      "text/plain": [
       "[   1   x0 x0^2 x0^3]\n",
       "[   1   x1 x1^2 x1^3]\n",
       "[   1   x2 x2^2 x2^3]\n",
       "[   1   x3 x3^2 x3^3]"
      ]
     },
     "execution_count": 43,
     "metadata": {},
     "output_type": "execute_result"
    }
   ],
   "source": [
    "matrix.vandermonde(SR.var(['x0', 'x1', 'x2','x3']))"
   ]
  },
  {
   "cell_type": "code",
   "execution_count": 41,
   "id": "contained-banks",
   "metadata": {},
   "outputs": [
    {
     "data": {
      "text/plain": [
       "[1 5 6 7]\n",
       "[2 1 5 6]\n",
       "[3 2 1 5]\n",
       "[4 3 2 1]\n",
       "[5 4 3 2]"
      ]
     },
     "execution_count": 41,
     "metadata": {},
     "output_type": "execute_result"
    }
   ],
   "source": [
    "matrix.toeplitz([1..5], [5..7])"
   ]
  },
  {
   "cell_type": "code",
   "execution_count": 44,
   "id": "successful-yield",
   "metadata": {},
   "outputs": [
    {
     "data": {
      "text/plain": [
       "[  1   2   4   8]\n",
       "[  1   5  25 125]\n",
       "[  1   6  36 216]\n",
       "[  1   7  49 343]"
      ]
     },
     "execution_count": 44,
     "metadata": {},
     "output_type": "execute_result"
    }
   ],
   "source": [
    "matrix.vandermonde([2, 5, 6,7])"
   ]
  },
  {
   "cell_type": "code",
   "execution_count": 51,
   "id": "fitted-programmer",
   "metadata": {},
   "outputs": [
    {
     "name": "stdout",
     "output_type": "stream",
     "text": [
      "the Vandermonde matrix is \n"
     ]
    },
    {
     "data": {
      "text/html": [
       "<html><script type=\"math/tex; mode=display\">\\newcommand{\\Bold}[1]{\\mathbf{#1}}\\left(\\begin{array}{rrrrr}\n",
       "1 & 3 & 9 & 27 & 81 \\\\\n",
       "1 & 7 & 49 & 343 & 2401 \\\\\n",
       "1 & 9 & 81 & 729 & 6561 \\\\\n",
       "1 & 8 & 64 & 512 & 4096\n",
       "\\end{array}\\right)</script></html>"
      ],
      "text/latex": [
       "\\begin{math}\n",
       "\\newcommand{\\Bold}[1]{\\mathbf{#1}}\\left(\\begin{array}{rrrrr}\n",
       "1 & 3 & 9 & 27 & 81 \\\\\n",
       "1 & 7 & 49 & 343 & 2401 \\\\\n",
       "1 & 9 & 81 & 729 & 6561 \\\\\n",
       "1 & 8 & 64 & 512 & 4096\n",
       "\\end{array}\\right)\n",
       "\\end{math}"
      ],
      "text/plain": [
       "[   1    3    9   27   81]\n",
       "[   1    7   49  343 2401]\n",
       "[   1    9   81  729 6561]\n",
       "[   1    8   64  512 4096]"
      ]
     },
     "metadata": {},
     "output_type": "display_data"
    }
   ],
   "source": [
    "def van(u,n):\n",
    "    m=len(u)\n",
    "    V=matrix(m,n,lambda i,j:u[i]**j)\n",
    "    print(\"the Vandermonde matrix is \")\n",
    "    show(V)\n",
    "    return\n",
    "van([3,7,9,8],5)"
   ]
  },
  {
   "cell_type": "code",
   "execution_count": 59,
   "id": "active-decimal",
   "metadata": {},
   "outputs": [
    {
     "name": "stdout",
     "output_type": "stream",
     "text": [
      "the hilbert matrix is \n"
     ]
    },
    {
     "data": {
      "text/html": [
       "<html><script type=\"math/tex; mode=display\">\\newcommand{\\Bold}[1]{\\mathbf{#1}}\\left(\\begin{array}{rrrrr}\n",
       "1 & \\frac{1}{2} & \\frac{1}{3} & \\frac{1}{4} & \\frac{1}{5} \\\\\n",
       "\\frac{1}{2} & \\frac{1}{3} & \\frac{1}{4} & \\frac{1}{5} & \\frac{1}{6} \\\\\n",
       "\\frac{1}{3} & \\frac{1}{4} & \\frac{1}{5} & \\frac{1}{6} & \\frac{1}{7} \\\\\n",
       "\\frac{1}{4} & \\frac{1}{5} & \\frac{1}{6} & \\frac{1}{7} & \\frac{1}{8}\n",
       "\\end{array}\\right)</script></html>"
      ],
      "text/latex": [
       "\\begin{math}\n",
       "\\newcommand{\\Bold}[1]{\\mathbf{#1}}\\left(\\begin{array}{rrrrr}\n",
       "1 & \\frac{1}{2} & \\frac{1}{3} & \\frac{1}{4} & \\frac{1}{5} \\\\\n",
       "\\frac{1}{2} & \\frac{1}{3} & \\frac{1}{4} & \\frac{1}{5} & \\frac{1}{6} \\\\\n",
       "\\frac{1}{3} & \\frac{1}{4} & \\frac{1}{5} & \\frac{1}{6} & \\frac{1}{7} \\\\\n",
       "\\frac{1}{4} & \\frac{1}{5} & \\frac{1}{6} & \\frac{1}{7} & \\frac{1}{8}\n",
       "\\end{array}\\right)\n",
       "\\end{math}"
      ],
      "text/plain": [
       "[  1 1/2 1/3 1/4 1/5]\n",
       "[1/2 1/3 1/4 1/5 1/6]\n",
       "[1/3 1/4 1/5 1/6 1/7]\n",
       "[1/4 1/5 1/6 1/7 1/8]"
      ]
     },
     "metadata": {},
     "output_type": "display_data"
    }
   ],
   "source": [
    "def hil(u,m):\n",
    "    V=matrix(u,m,lambda i,j:1/(i+j+1))\n",
    "    print(\"the hilbert matrix is \")\n",
    "    show(V)\n",
    "    return\n",
    "hil(4,5)"
   ]
  },
  {
   "cell_type": "code",
   "execution_count": null,
   "id": "worse-christmas",
   "metadata": {},
   "outputs": [],
   "source": []
  }
 ],
 "metadata": {
  "kernelspec": {
   "display_name": "SageMath 9.2",
   "language": "sage",
   "name": "sagemath"
  },
  "language_info": {
   "codemirror_mode": {
    "name": "ipython",
    "version": 3
   },
   "file_extension": ".py",
   "mimetype": "text/x-python",
   "name": "python",
   "nbconvert_exporter": "python",
   "pygments_lexer": "ipython3",
   "version": "3.9.2"
  }
 },
 "nbformat": 4,
 "nbformat_minor": 5
}
