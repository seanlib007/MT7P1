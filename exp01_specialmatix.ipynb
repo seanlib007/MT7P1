{
 "cells": [
  {
   "cell_type": "code",
   "execution_count": 40,
   "id": "latter-hepatitis",
   "metadata": {},
   "outputs": [
    {
     "name": "stdout",
     "output_type": "stream",
     "text": [
      "[1 2 3]\n",
      "[4 5 6]\n",
      "[7 8 9]\n"
     ]
    },
    {
     "data": {
      "text/html": [
       "<html><script type=\"math/tex; mode=display\">\\newcommand{\\Bold}[1]{\\mathbf{#1}}\\left(\\begin{array}{rrr}\n",
       "1 & 2 & 3 \\\\\n",
       "4 & 5 & 6 \\\\\n",
       "7 & 8 & 9\n",
       "\\end{array}\\right)</script></html>"
      ],
      "text/latex": [
       "\\begin{math}\n",
       "\\newcommand{\\Bold}[1]{\\mathbf{#1}}\\left(\\begin{array}{rrr}\n",
       "1 & 2 & 3 \\\\\n",
       "4 & 5 & 6 \\\\\n",
       "7 & 8 & 9\n",
       "\\end{array}\\right)\n",
       "\\end{math}"
      ],
      "text/plain": [
       "[1 2 3]\n",
       "[4 5 6]\n",
       "[7 8 9]"
      ]
     },
     "metadata": {},
     "output_type": "display_data"
    },
    {
     "data": {
      "text/plain": [
       "Integer Ring"
      ]
     },
     "execution_count": 40,
     "metadata": {},
     "output_type": "execute_result"
    }
   ],
   "source": [
    "a=matrix([[1,2,3],[4,5,6],[7,8,9]])\n",
    "print(a)\n",
    "show(a) \n",
    "a.base_ring()"
   ]
  },
  {
   "cell_type": "code",
   "execution_count": 39,
   "id": "reserved-wildlife",
   "metadata": {},
   "outputs": [
    {
     "data": {
      "text/plain": [
       "Real Field with 53 bits of precision"
      ]
     },
     "execution_count": 39,
     "metadata": {},
     "output_type": "execute_result"
    }
   ],
   "source": [
    "a=matrix([[1.0,2,3],[4,5,6],[7,8,9]])\n",
    "a.base_ring()"
   ]
  },
  {
   "cell_type": "code",
   "execution_count": 25,
   "id": "dedicated-sword",
   "metadata": {},
   "outputs": [
    {
     "data": {
      "text/plain": [
       "[1 0 0]\n",
       "[0 1 0]\n",
       "[0 0 1]"
      ]
     },
     "execution_count": 25,
     "metadata": {},
     "output_type": "execute_result"
    }
   ],
   "source": [
    "matrix.identity(3)\n"
   ]
  },
  {
   "cell_type": "code",
   "execution_count": 26,
   "id": "undefined-better",
   "metadata": {},
   "outputs": [
    {
     "data": {
      "text/plain": [
       "[0 0 0]\n",
       "[0 0 0]\n",
       "[0 0 0]"
      ]
     },
     "execution_count": 26,
     "metadata": {},
     "output_type": "execute_result"
    }
   ],
   "source": [
    "matrix.zero(3)"
   ]
  },
  {
   "cell_type": "code",
   "execution_count": 30,
   "id": "heard-money",
   "metadata": {},
   "outputs": [
    {
     "data": {
      "text/plain": [
       "[  1 1/2 1/3]\n",
       "[1/2 1/3 1/4]\n",
       "[1/3 1/4 1/5]"
      ]
     },
     "execution_count": 30,
     "metadata": {},
     "output_type": "execute_result"
    }
   ],
   "source": [
    "matrix.hilbert(3)"
   ]
  },
  {
   "cell_type": "code",
   "execution_count": 35,
   "id": "everyday-favorite",
   "metadata": {},
   "outputs": [
    {
     "data": {
      "text/plain": [
       "[   1   x0 x0^2 x0^3]\n",
       "[   1   x1 x1^2 x1^3]\n",
       "[   1   x2 x2^2 x2^3]\n",
       "[   1   x3 x3^2 x3^3]"
      ]
     },
     "execution_count": 35,
     "metadata": {},
     "output_type": "execute_result"
    }
   ],
   "source": [
    "matrix.vandermonde(SR.var(['x0', 'x1', 'x2','x3']))"
   ]
  },
  {
   "cell_type": "code",
   "execution_count": 41,
   "id": "celtic-cooperation",
   "metadata": {},
   "outputs": [
    {
     "data": {
      "text/plain": [
       "[1 5 6 7]\n",
       "[2 1 5 6]\n",
       "[3 2 1 5]\n",
       "[4 3 2 1]\n",
       "[5 4 3 2]"
      ]
     },
     "execution_count": 41,
     "metadata": {},
     "output_type": "execute_result"
    }
   ],
   "source": [
    "matrix.toeplitz([1..5], [5..7])"
   ]
  },
  {
   "cell_type": "code",
   "execution_count": null,
   "id": "greek-burlington",
   "metadata": {},
   "outputs": [],
   "source": []
  }
 ],
 "metadata": {
  "kernelspec": {
   "display_name": "SageMath 9.2",
   "language": "sage",
   "name": "sagemath"
  },
  "language_info": {
   "codemirror_mode": {
    "name": "ipython",
    "version": 3
   },
   "file_extension": ".py",
   "mimetype": "text/x-python",
   "name": "python",
   "nbconvert_exporter": "python",
   "pygments_lexer": "ipython3",
   "version": "3.9.2"
  }
 },
 "nbformat": 4,
 "nbformat_minor": 5
}
